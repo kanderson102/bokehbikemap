{
 "cells": [
  {
   "cell_type": "code",
   "execution_count": 245,
   "metadata": {
    "collapsed": false
   },
   "outputs": [],
   "source": [
    "import json\n",
    "\n",
    "#this won't work for you unless you import the data. See ReadMe for URL\n",
    "with open('data/Austin/austin_texas_osm_line.geojson', encoding='utf8') as f:\n",
    "    lines = json.load(f)"
   ]
  },
  {
   "cell_type": "markdown",
   "metadata": {},
   "source": [
    "## Feed in the file\n",
    "extract the coordinates for each line. We're keeping the lats and lons together in their own list"
   ]
  },
  {
   "cell_type": "code",
   "execution_count": 246,
   "metadata": {
    "collapsed": false
   },
   "outputs": [
    {
     "data": {
      "text/plain": [
       "[[29.931372, 29.931369, 29.93138, 29.931381, 29.931381, 29.931389, 29.931391],\n",
       " [29.931381, 29.932068],\n",
       " [29.933104, 29.933062, 29.933056, 29.933064, 29.933083],\n",
       " [29.934565,\n",
       "  29.93454,\n",
       "  29.934526,\n",
       "  29.934532,\n",
       "  29.934549,\n",
       "  29.934588,\n",
       "  29.934641,\n",
       "  29.934726,\n",
       "  29.934821],\n",
       " [29.933061, 29.933058]]"
      ]
     },
     "execution_count": 246,
     "metadata": {},
     "output_type": "execute_result"
    }
   ],
   "source": [
    "lat, lon = [], []\n",
    "\n",
    "for i,feature in enumerate(lines['features']):\n",
    "    line = feature['geometry']['coordinates']\n",
    "    \n",
    "    lats, lons = [], []\n",
    "    \n",
    "    # The lats and lons are reversed so we need to switch them around\n",
    "    # The first point is actually in the correct order (positive lat, negative lon)\n",
    "    for point in line:        \n",
    "        if point[0] < 0:\n",
    "            point[0], point[1] = point[1], point[0]\n",
    "        lats.append(point[0])\n",
    "        lons.append(point[1])\n",
    "    lat.append(lats)\n",
    "    lon.append(lons)\n",
    "    if i == 15:\n",
    "        break\n",
    "        \n",
    "lat[:5]"
   ]
  },
  {
   "cell_type": "markdown",
   "metadata": {},
   "source": [
    "### Split the lines into consecutive points"
   ]
  },
  {
   "cell_type": "code",
   "execution_count": 247,
   "metadata": {
    "collapsed": false
   },
   "outputs": [
    {
     "data": {
      "text/plain": [
       "[[-98.2073199, -98.2077049],\n",
       " [-98.2077049, -98.2087179],\n",
       " [-98.2087179, -98.2094179],\n",
       " [-98.2094179, -98.2095799],\n",
       " [-98.2095799, -98.21023789999998]]"
      ]
     },
     "execution_count": 247,
     "metadata": {},
     "output_type": "execute_result"
    }
   ],
   "source": [
    "latlines = []\n",
    "lonlines = []\n",
    "\n",
    "for line in lat:\n",
    "    latlines.extend([line[i],line[i+1]] for i in range(0,len(line)-1))\n",
    "\n",
    "for line in lon:\n",
    "    lonlines.extend([line[i],line[i+1]] for i in range(0,len(line)-1))\n",
    "    \n",
    "lonlines[:5]"
   ]
  },
  {
   "cell_type": "markdown",
   "metadata": {},
   "source": [
    "### Get the average Lat/Lon\n",
    "This will be used to get an average elevation for each line segement"
   ]
  },
  {
   "cell_type": "code",
   "execution_count": 248,
   "metadata": {
    "collapsed": false
   },
   "outputs": [
    {
     "data": {
      "text/plain": [
       "[29.9313705, 29.9313745, 29.9313805, 29.931381, 29.931385]"
      ]
     },
     "execution_count": 248,
     "metadata": {},
     "output_type": "execute_result"
    }
   ],
   "source": [
    "avglat = []\n",
    "avglon = []\n",
    "\n",
    "for line in latlines:\n",
    "    avglat.append(sum(line)/len(line))\n",
    "for line in lonlines:\n",
    "    avglon.append(sum(line)/len(line))\n",
    "\n",
    "avglat[:5]"
   ]
  },
  {
   "cell_type": "markdown",
   "metadata": {},
   "source": [
    "### Combine into a list of tuples"
   ]
  },
  {
   "cell_type": "code",
   "execution_count": 249,
   "metadata": {
    "collapsed": false
   },
   "outputs": [
    {
     "data": {
      "text/plain": [
       "[(29.9313705, -98.2075124),\n",
       " (29.9313745, -98.2082114),\n",
       " (29.9313805, -98.20906790000001),\n",
       " (29.931381, -98.2094989),\n",
       " (29.931385, -98.20990889999999)]"
      ]
     },
     "execution_count": 249,
     "metadata": {},
     "output_type": "execute_result"
    }
   ],
   "source": [
    "avg_coords = list(zip(avglat,avglon))\n",
    "avg_coords[:5]"
   ]
  },
  {
   "cell_type": "markdown",
   "metadata": {},
   "source": [
    "### Get elevation\n",
    "Convert tuples into 'locations' string for the Google Maps API in the form:\n",
    "\"29.11, -98.22 | 29.00, -98.00\""
   ]
  },
  {
   "cell_type": "code",
   "execution_count": 250,
   "metadata": {
    "collapsed": false
   },
   "outputs": [
    {
     "data": {
      "text/plain": [
       "'29.9313705,-98.2075124 | 29.9313745,-98.2082114 | 29.9313805,-98.20906790000001 | 29.931381,-98.2094989 | 29.931385,-98.20990889999999 | 29.93139,-98.2102979 | 29.9317245,-98.2094009 | 29.933083,-98.2113244 | 29.933059,-98.2115084 | 29.93306,-98.2116134 | 29.9330735,-98.2117319 | 29.9345525,-98.2101954 | 29.934533000000002,-98.2104994 | 29.934529,-98.2107354 | 29.9345405,-98.21090989999999 | 29.9345685,-98.2110764 | 29.934614500000002,-98.21123639999999 | 29.9346835,-98.21140739999998 | 29.9347735,-98.2115944 | 29.9330595,-98.20809689999999 | 29.934542,-98.2077889 | 29.9359155,-98.21017289999999 | 29.9359365,-98.21036989999999 | 29.935966,-98.2104779 | 29.936051,-98.21070939999998 | 29.9352385,-98.2114219 | 29.9358855,-98.2110159 | 29.936591,-98.21058790000001 | 29.9373035,-98.2101514 | 29.9377245,-98.2098869 | 29.937949000000003,-98.2097434 | 29.938046,-98.2096674 | 29.938143,-98.20958390000001 | 29.9382455,-98.2094699 | 29.938333,-98.20935589999999 | 29.9383775,-98.2092794 | 29.938477499999998,-98.2090484 | 29.938595,-98.2087474 | 29.938657,-98.2085754 | 29.938717,-98.2084154 | 29.938769999999998,-98.2082729 | 29.9388245,-98.2081604 | 29.938950499999997,-98.20799389999999 | 29.9317275,-98.2073124 | 29.9323325,-98.2073059 | 29.932665,-98.2073049 | 29.932795,-98.2072949 | 29.9328785,-98.2072719 | 29.932988,-98.20720539999999 | 29.933123000000002,-98.2071134 | 29.9332405,-98.20704889999999 | 29.9333395,-98.2070134 | 29.933537,-98.20699739999999 | 29.934119,-98.20699339999999 | 29.9352435,-98.20699339999999 | 29.936642,-98.20699489999998 | 29.937353,-98.20699839999999 | 29.937475,-98.2069964 | 29.937703,-98.2069999 | 29.9378985,-98.20701539999999 | 29.938086,-98.2070534 | 29.938252499999997,-98.2071049 | 29.9383515,-98.20714889999999 | 29.9384245,-98.20719439999999 | 29.9384995,-98.20725289999999 | 29.938581,-98.2073259 | 29.938701000000002,-98.2074514 | 29.9388225,-98.2075939 | 29.938952,-98.2077719 | 29.9395175,-98.2085189 | 29.940162,-98.20929140000001 | 29.940354999999997,-98.2094629 | 29.9405025,-98.2095589 | 29.9359335,-98.2081024 | 29.935938,-98.20734039999999 | 29.9362255,-98.2079799 | 29.9373335,-98.2091589 | 29.9373365,-98.2094434 | 29.9373765,-98.20964190000001 | 29.9374265,-98.20978740000001 | 29.937492499999998,-98.20991839999999 | 29.932571000000003,-98.20599720000001 | 29.93153555,-98.2059712 | 29.93301625,-98.20591715 | 29.9330613,-98.20601385 | 29.933206,-98.20579005 | 29.9331799,-98.20564350000001 | 29.93301305,-98.20579865 | 29.9331024,-98.20575425000001 | 29.9333006,-98.20570715'"
      ]
     },
     "execution_count": 250,
     "metadata": {},
     "output_type": "execute_result"
    }
   ],
   "source": [
    "locations = str()\n",
    "for i, coord in enumerate(avg_coords):\n",
    "    locations += (str(coord[0]) + ',' + str(coord[1]))\n",
    "    if i < len(avg_coords) - 1:\n",
    "        locations += ' | '\n",
    "    \n",
    "locations"
   ]
  },
  {
   "cell_type": "code",
   "execution_count": null,
   "metadata": {
    "collapsed": false
   },
   "outputs": [],
   "source": [
    "from YOUR_API_KEY import key\n",
    "key"
   ]
  },
  {
   "cell_type": "code",
   "execution_count": 273,
   "metadata": {
    "collapsed": false
   },
   "outputs": [
    {
     "name": "stderr",
     "output_type": "stream",
     "text": [
      "INFO:requests.packages.urllib3.connectionpool:Starting new HTTPS connection (1): maps.googleapis.com\n"
     ]
    },
    {
     "data": {
      "text/plain": [
       "[{'elevation': 353.4602966308594,\n",
       "  'location': {'lat': 29.9313705, 'lng': -98.2075124},\n",
       "  'resolution': 9.543951988220215},\n",
       " {'elevation': 340.48681640625,\n",
       "  'location': {'lat': 29.9313745, 'lng': -98.2082114},\n",
       "  'resolution': 9.543951988220215},\n",
       " {'elevation': 337.2597961425781,\n",
       "  'location': {'lat': 29.9313805, 'lng': -98.20906790000001},\n",
       "  'resolution': 9.543951988220215},\n",
       " {'elevation': 333.9473571777344,\n",
       "  'location': {'lat': 29.931381, 'lng': -98.2094989},\n",
       "  'resolution': 9.543951988220215},\n",
       " {'elevation': 330.006591796875,\n",
       "  'location': {'lat': 29.931385, 'lng': -98.20990889999999},\n",
       "  'resolution': 9.543951988220215}]"
      ]
     },
     "execution_count": 273,
     "metadata": {},
     "output_type": "execute_result"
    }
   ],
   "source": [
    "import requests\n",
    "from YOUR_API_KEY import key\n",
    "\n",
    "search_url = 'https://maps.googleapis.com/maps/api/elevation/json?'\n",
    "search_payload = {\"key\": key, \"locations\": locations}\n",
    "search_req = requests.get(search_url, params=search_payload)\n",
    "search_json = search_req.json()\n",
    "\n",
    "results = search_json['results'] \n",
    "results[:5]"
   ]
  },
  {
   "cell_type": "markdown",
   "metadata": {},
   "source": [
    "### Get list of elevations"
   ]
  },
  {
   "cell_type": "code",
   "execution_count": 274,
   "metadata": {
    "collapsed": false
   },
   "outputs": [
    {
     "data": {
      "text/plain": [
       "[353.4602966308594,\n",
       " 340.48681640625,\n",
       " 337.2597961425781,\n",
       " 333.9473571777344,\n",
       " 330.006591796875]"
      ]
     },
     "execution_count": 274,
     "metadata": {},
     "output_type": "execute_result"
    }
   ],
   "source": [
    "elevations = []\n",
    "\n",
    "for i in results:\n",
    "    elevations.append(i['elevation'])\n",
    "    \n",
    "elevations[:5]"
   ]
  },
  {
   "cell_type": "code",
   "execution_count": null,
   "metadata": {
    "collapsed": true
   },
   "outputs": [],
   "source": []
  },
  {
   "cell_type": "code",
   "execution_count": 253,
   "metadata": {
    "collapsed": false
   },
   "outputs": [
    {
     "name": "stderr",
     "output_type": "stream",
     "text": [
      "INFO:bokeh.core.state:Session output file 'test.html' already exists, will be overwritten.\n"
     ]
    },
    {
     "data": {
      "text/html": [
       "\n",
       "    <div class=\"bk-root\">\n",
       "        <a href=\"http://bokeh.pydata.org\" target=\"_blank\" class=\"bk-logo bk-logo-small bk-logo-notebook\"></a>\n",
       "        <span id=\"9f42c5d3-f4be-4734-bf4d-8e92179f8af2\">Loading BokehJS ...</span>\n",
       "    </div>"
      ]
     },
     "metadata": {},
     "output_type": "display_data"
    },
    {
     "data": {
      "application/javascript": [
       "\n",
       "(function(global) {\n",
       "  function now() {\n",
       "    return new Date();\n",
       "  }\n",
       "\n",
       "  var force = \"1\";\n",
       "\n",
       "  if (typeof (window._bokeh_onload_callbacks) === \"undefined\" || force !== \"\") {\n",
       "    window._bokeh_onload_callbacks = [];\n",
       "    window._bokeh_is_loading = undefined;\n",
       "  }\n",
       "\n",
       "\n",
       "  \n",
       "  if (typeof (window._bokeh_timeout) === \"undefined\" || force !== \"\") {\n",
       "    window._bokeh_timeout = Date.now() + 5000;\n",
       "    window._bokeh_failed_load = false;\n",
       "  }\n",
       "\n",
       "  var NB_LOAD_WARNING = {'data': {'text/html':\n",
       "     \"<div style='background-color: #fdd'>\\n\"+\n",
       "     \"<p>\\n\"+\n",
       "     \"BokehJS does not appear to have successfully loaded. If loading BokehJS from CDN, this \\n\"+\n",
       "     \"may be due to a slow or bad network connection. Possible fixes:\\n\"+\n",
       "     \"</p>\\n\"+\n",
       "     \"<ul>\\n\"+\n",
       "     \"<li>re-rerun `output_notebook()` to attempt to load from CDN again, or</li>\\n\"+\n",
       "     \"<li>use INLINE resources instead, as so:</li>\\n\"+\n",
       "     \"</ul>\\n\"+\n",
       "     \"<code>\\n\"+\n",
       "     \"from bokeh.resources import INLINE\\n\"+\n",
       "     \"output_notebook(resources=INLINE)\\n\"+\n",
       "     \"</code>\\n\"+\n",
       "     \"</div>\"}};\n",
       "\n",
       "  function display_loaded() {\n",
       "    if (window.Bokeh !== undefined) {\n",
       "      Bokeh.$(\"#9f42c5d3-f4be-4734-bf4d-8e92179f8af2\").text(\"BokehJS successfully loaded.\");\n",
       "    } else if (Date.now() < window._bokeh_timeout) {\n",
       "      setTimeout(display_loaded, 100)\n",
       "    }\n",
       "  }\n",
       "\n",
       "  function run_callbacks() {\n",
       "    window._bokeh_onload_callbacks.forEach(function(callback) { callback() });\n",
       "    delete window._bokeh_onload_callbacks\n",
       "    console.info(\"Bokeh: all callbacks have finished\");\n",
       "  }\n",
       "\n",
       "  function load_libs(js_urls, callback) {\n",
       "    window._bokeh_onload_callbacks.push(callback);\n",
       "    if (window._bokeh_is_loading > 0) {\n",
       "      console.log(\"Bokeh: BokehJS is being loaded, scheduling callback at\", now());\n",
       "      return null;\n",
       "    }\n",
       "    if (js_urls == null || js_urls.length === 0) {\n",
       "      run_callbacks();\n",
       "      return null;\n",
       "    }\n",
       "    console.log(\"Bokeh: BokehJS not loaded, scheduling load and callback at\", now());\n",
       "    window._bokeh_is_loading = js_urls.length;\n",
       "    for (var i = 0; i < js_urls.length; i++) {\n",
       "      var url = js_urls[i];\n",
       "      var s = document.createElement('script');\n",
       "      s.src = url;\n",
       "      s.async = false;\n",
       "      s.onreadystatechange = s.onload = function() {\n",
       "        window._bokeh_is_loading--;\n",
       "        if (window._bokeh_is_loading === 0) {\n",
       "          console.log(\"Bokeh: all BokehJS libraries loaded\");\n",
       "          run_callbacks()\n",
       "        }\n",
       "      };\n",
       "      s.onerror = function() {\n",
       "        console.warn(\"failed to load library \" + url);\n",
       "      };\n",
       "      console.log(\"Bokeh: injecting script tag for BokehJS library: \", url);\n",
       "      document.getElementsByTagName(\"head\")[0].appendChild(s);\n",
       "    }\n",
       "  };var element = document.getElementById(\"9f42c5d3-f4be-4734-bf4d-8e92179f8af2\");\n",
       "  if (element == null) {\n",
       "    console.log(\"Bokeh: ERROR: autoload.js configured with elementid '9f42c5d3-f4be-4734-bf4d-8e92179f8af2' but no matching script tag was found. \")\n",
       "    return false;\n",
       "  }\n",
       "\n",
       "  var js_urls = ['https://cdn.pydata.org/bokeh/release/bokeh-0.12.2.min.js', 'https://cdn.pydata.org/bokeh/release/bokeh-widgets-0.12.2.min.js', 'https://cdn.pydata.org/bokeh/release/bokeh-compiler-0.12.2.min.js'];\n",
       "\n",
       "  var inline_js = [\n",
       "    function(Bokeh) {\n",
       "      Bokeh.set_log_level(\"info\");\n",
       "    },\n",
       "    \n",
       "    function(Bokeh) {\n",
       "      \n",
       "      Bokeh.$(\"#9f42c5d3-f4be-4734-bf4d-8e92179f8af2\").text(\"BokehJS is loading...\");\n",
       "    },\n",
       "    function(Bokeh) {\n",
       "      console.log(\"Bokeh: injecting CSS: https://cdn.pydata.org/bokeh/release/bokeh-0.12.2.min.css\");\n",
       "      Bokeh.embed.inject_css(\"https://cdn.pydata.org/bokeh/release/bokeh-0.12.2.min.css\");\n",
       "      console.log(\"Bokeh: injecting CSS: https://cdn.pydata.org/bokeh/release/bokeh-widgets-0.12.2.min.css\");\n",
       "      Bokeh.embed.inject_css(\"https://cdn.pydata.org/bokeh/release/bokeh-widgets-0.12.2.min.css\");\n",
       "    }\n",
       "  ];\n",
       "\n",
       "  function run_inline_js() {\n",
       "    \n",
       "    if ((window.Bokeh !== undefined) || (force === \"1\")) {\n",
       "      for (var i = 0; i < inline_js.length; i++) {\n",
       "        inline_js[i](window.Bokeh);\n",
       "      }if (force === \"1\") {\n",
       "        display_loaded();\n",
       "      }} else if (Date.now() < window._bokeh_timeout) {\n",
       "      setTimeout(run_inline_js, 100);\n",
       "    } else if (!window._bokeh_failed_load) {\n",
       "      console.log(\"Bokeh: BokehJS failed to load within specified timeout.\");\n",
       "      window._bokeh_failed_load = true;\n",
       "    } else if (!force) {\n",
       "      var cell = $(\"#9f42c5d3-f4be-4734-bf4d-8e92179f8af2\").parents('.cell').data().cell;\n",
       "      cell.output_area.append_execute_result(NB_LOAD_WARNING)\n",
       "    }\n",
       "\n",
       "  }\n",
       "\n",
       "  if (window._bokeh_is_loading === 0) {\n",
       "    console.log(\"Bokeh: BokehJS loaded, going straight to plotting\");\n",
       "    run_inline_js();\n",
       "  } else {\n",
       "    load_libs(js_urls, function() {\n",
       "      console.log(\"Bokeh: BokehJS plotting callback run at\", now());\n",
       "      run_inline_js();\n",
       "    });\n",
       "  }\n",
       "}(this));"
      ]
     },
     "metadata": {},
     "output_type": "display_data"
    },
    {
     "data": {
      "text/html": [
       "\n",
       "\n",
       "    <div class=\"bk-root\">\n",
       "        <div class=\"plotdiv\" id=\"ec244de2-7a86-439d-a0f2-a98a12549ac2\"></div>\n",
       "    </div>\n",
       "<script type=\"text/javascript\">\n",
       "  \n",
       "  (function(global) {\n",
       "    function now() {\n",
       "      return new Date();\n",
       "    }\n",
       "  \n",
       "    var force = \"\";\n",
       "  \n",
       "    if (typeof (window._bokeh_onload_callbacks) === \"undefined\" || force !== \"\") {\n",
       "      window._bokeh_onload_callbacks = [];\n",
       "      window._bokeh_is_loading = undefined;\n",
       "    }\n",
       "  \n",
       "  \n",
       "    \n",
       "    if (typeof (window._bokeh_timeout) === \"undefined\" || force !== \"\") {\n",
       "      window._bokeh_timeout = Date.now() + 0;\n",
       "      window._bokeh_failed_load = false;\n",
       "    }\n",
       "  \n",
       "    var NB_LOAD_WARNING = {'data': {'text/html':\n",
       "       \"<div style='background-color: #fdd'>\\n\"+\n",
       "       \"<p>\\n\"+\n",
       "       \"BokehJS does not appear to have successfully loaded. If loading BokehJS from CDN, this \\n\"+\n",
       "       \"may be due to a slow or bad network connection. Possible fixes:\\n\"+\n",
       "       \"</p>\\n\"+\n",
       "       \"<ul>\\n\"+\n",
       "       \"<li>re-rerun `output_notebook()` to attempt to load from CDN again, or</li>\\n\"+\n",
       "       \"<li>use INLINE resources instead, as so:</li>\\n\"+\n",
       "       \"</ul>\\n\"+\n",
       "       \"<code>\\n\"+\n",
       "       \"from bokeh.resources import INLINE\\n\"+\n",
       "       \"output_notebook(resources=INLINE)\\n\"+\n",
       "       \"</code>\\n\"+\n",
       "       \"</div>\"}};\n",
       "  \n",
       "    function display_loaded() {\n",
       "      if (window.Bokeh !== undefined) {\n",
       "        Bokeh.$(\"#ec244de2-7a86-439d-a0f2-a98a12549ac2\").text(\"BokehJS successfully loaded.\");\n",
       "      } else if (Date.now() < window._bokeh_timeout) {\n",
       "        setTimeout(display_loaded, 100)\n",
       "      }\n",
       "    }\n",
       "  \n",
       "    function run_callbacks() {\n",
       "      window._bokeh_onload_callbacks.forEach(function(callback) { callback() });\n",
       "      delete window._bokeh_onload_callbacks\n",
       "      console.info(\"Bokeh: all callbacks have finished\");\n",
       "    }\n",
       "  \n",
       "    function load_libs(js_urls, callback) {\n",
       "      window._bokeh_onload_callbacks.push(callback);\n",
       "      if (window._bokeh_is_loading > 0) {\n",
       "        console.log(\"Bokeh: BokehJS is being loaded, scheduling callback at\", now());\n",
       "        return null;\n",
       "      }\n",
       "      if (js_urls == null || js_urls.length === 0) {\n",
       "        run_callbacks();\n",
       "        return null;\n",
       "      }\n",
       "      console.log(\"Bokeh: BokehJS not loaded, scheduling load and callback at\", now());\n",
       "      window._bokeh_is_loading = js_urls.length;\n",
       "      for (var i = 0; i < js_urls.length; i++) {\n",
       "        var url = js_urls[i];\n",
       "        var s = document.createElement('script');\n",
       "        s.src = url;\n",
       "        s.async = false;\n",
       "        s.onreadystatechange = s.onload = function() {\n",
       "          window._bokeh_is_loading--;\n",
       "          if (window._bokeh_is_loading === 0) {\n",
       "            console.log(\"Bokeh: all BokehJS libraries loaded\");\n",
       "            run_callbacks()\n",
       "          }\n",
       "        };\n",
       "        s.onerror = function() {\n",
       "          console.warn(\"failed to load library \" + url);\n",
       "        };\n",
       "        console.log(\"Bokeh: injecting script tag for BokehJS library: \", url);\n",
       "        document.getElementsByTagName(\"head\")[0].appendChild(s);\n",
       "      }\n",
       "    };var element = document.getElementById(\"ec244de2-7a86-439d-a0f2-a98a12549ac2\");\n",
       "    if (element == null) {\n",
       "      console.log(\"Bokeh: ERROR: autoload.js configured with elementid 'ec244de2-7a86-439d-a0f2-a98a12549ac2' but no matching script tag was found. \")\n",
       "      return false;\n",
       "    }\n",
       "  \n",
       "    var js_urls = [];\n",
       "  \n",
       "    var inline_js = [\n",
       "      function(Bokeh) {\n",
       "        Bokeh.$(function() {\n",
       "            var docs_json = {\"83f5161b-1687-4422-b6cd-a0a5135e5637\":{\"roots\":{\"references\":[{\"attributes\":{\"bottom_units\":\"screen\",\"fill_alpha\":{\"value\":0.5},\"fill_color\":{\"value\":\"lightgrey\"},\"left_units\":\"screen\",\"level\":\"overlay\",\"line_alpha\":{\"value\":1.0},\"line_color\":{\"value\":\"black\"},\"line_dash\":[4,4],\"line_width\":{\"value\":2},\"plot\":null,\"render_mode\":\"css\",\"right_units\":\"screen\",\"top_units\":\"screen\"},\"id\":\"6c59ebfe-40a0-4ef2-b384-38d0df20f2c4\",\"type\":\"BoxAnnotation\"},{\"attributes\":{\"formatter\":{\"id\":\"219c6883-af2d-4dd0-9523-074082ddd1b1\",\"type\":\"BasicTickFormatter\"},\"plot\":{\"id\":\"662dd695-215b-42a0-b347-4e864cae3e87\",\"subtype\":\"Figure\",\"type\":\"Plot\"},\"ticker\":{\"id\":\"7c09bd8e-f90d-4368-a16f-faf465c02c54\",\"type\":\"BasicTicker\"}},\"id\":\"eb29c5a8-529e-4efc-8b52-63497f7a6ac3\",\"type\":\"LinearAxis\"},{\"attributes\":{\"below\":[{\"id\":\"eb29c5a8-529e-4efc-8b52-63497f7a6ac3\",\"type\":\"LinearAxis\"}],\"left\":[{\"id\":\"8740d375-6a6d-47b7-b229-4a0c0f3df0c8\",\"type\":\"LinearAxis\"}],\"renderers\":[{\"id\":\"eb29c5a8-529e-4efc-8b52-63497f7a6ac3\",\"type\":\"LinearAxis\"},{\"id\":\"8919eb3f-0204-459d-b62d-ebb1e912c7fa\",\"type\":\"Grid\"},{\"id\":\"8740d375-6a6d-47b7-b229-4a0c0f3df0c8\",\"type\":\"LinearAxis\"},{\"id\":\"e24f0e10-9be1-44b7-b721-811ee9d6ce6c\",\"type\":\"Grid\"},{\"id\":\"6c59ebfe-40a0-4ef2-b384-38d0df20f2c4\",\"type\":\"BoxAnnotation\"},{\"id\":\"3a576d55-250d-4a96-9ecd-0d563d8a955d\",\"type\":\"GlyphRenderer\"}],\"title\":{\"id\":\"d2c2cb42-0aba-4fa9-8532-08a0573be57f\",\"type\":\"Title\"},\"tool_events\":{\"id\":\"7b79d476-dd33-499d-a37c-0e7fc18916d3\",\"type\":\"ToolEvents\"},\"toolbar\":{\"id\":\"dd0dfc2b-4722-4120-b52c-7cf5aadb04de\",\"type\":\"Toolbar\"},\"x_range\":{\"id\":\"769b3839-a6d9-41a6-9337-dc3339eea955\",\"type\":\"DataRange1d\"},\"y_range\":{\"id\":\"e7ec6f75-73dc-437b-a809-24d587d57e71\",\"type\":\"DataRange1d\"}},\"id\":\"662dd695-215b-42a0-b347-4e864cae3e87\",\"subtype\":\"Figure\",\"type\":\"Plot\"},{\"attributes\":{\"plot\":null,\"text\":null},\"id\":\"d2c2cb42-0aba-4fa9-8532-08a0573be57f\",\"type\":\"Title\"},{\"attributes\":{\"plot\":{\"id\":\"662dd695-215b-42a0-b347-4e864cae3e87\",\"subtype\":\"Figure\",\"type\":\"Plot\"}},\"id\":\"d89bfd09-2198-462c-855e-09c892af03b7\",\"type\":\"SaveTool\"},{\"attributes\":{\"dimension\":1,\"plot\":{\"id\":\"662dd695-215b-42a0-b347-4e864cae3e87\",\"subtype\":\"Figure\",\"type\":\"Plot\"},\"ticker\":{\"id\":\"f9180908-6c19-46b5-8807-c8841e5111c9\",\"type\":\"BasicTicker\"}},\"id\":\"e24f0e10-9be1-44b7-b721-811ee9d6ce6c\",\"type\":\"Grid\"},{\"attributes\":{\"data_source\":{\"id\":\"b60231a3-5079-48b2-a09a-ca3256d807e7\",\"type\":\"ColumnDataSource\"},\"glyph\":{\"id\":\"968aa978-0303-4b28-991a-29acaf7aa60f\",\"type\":\"MultiLine\"},\"hover_glyph\":null,\"nonselection_glyph\":{\"id\":\"feb2af80-3d77-4d7f-bd8c-dc17190d9571\",\"type\":\"MultiLine\"},\"selection_glyph\":null},\"id\":\"3a576d55-250d-4a96-9ecd-0d563d8a955d\",\"type\":\"GlyphRenderer\"},{\"attributes\":{},\"id\":\"99e3b3be-cdef-4c45-904b-90f5b0ee2fac\",\"type\":\"BasicTickFormatter\"},{\"attributes\":{\"line_color\":{\"value\":\"#1f77b4\"},\"xs\":{\"field\":\"xs\"},\"ys\":{\"field\":\"ys\"}},\"id\":\"968aa978-0303-4b28-991a-29acaf7aa60f\",\"type\":\"MultiLine\"},{\"attributes\":{\"callback\":null,\"column_names\":[\"xs\",\"ys\"],\"data\":{\"xs\":[[-98.2073199,-98.2077049],[-98.2077049,-98.2087179],[-98.2087179,-98.2094179],[-98.2094179,-98.2095799],[-98.2095799,-98.21023789999998],[-98.21023789999998,-98.2103579],[-98.2094179,-98.2093839],[-98.2111829,-98.2114659],[-98.2114659,-98.2115509],[-98.2115509,-98.2116759],[-98.2116759,-98.2117879],[-98.2100349,-98.2103559],[-98.2103559,-98.2106429],[-98.2106429,-98.2108279],[-98.2108279,-98.2109919],[-98.2109919,-98.2111609],[-98.2111609,-98.2113119],[-98.2113119,-98.21150289999999],[-98.21150289999999,-98.2116859],[-98.2071539,-98.2090399],[-98.2069939,-98.2085839],[-98.21001689999999,-98.2103289],[-98.2103289,-98.2104109],[-98.2104109,-98.21054489999999],[-98.21054489999999,-98.2108739],[-98.2116859,-98.2111579],[-98.2111579,-98.2108739],[-98.2108739,-98.2103019],[-98.2103019,-98.2100009],[-98.2100009,-98.2097729],[-98.2097729,-98.20971389999998],[-98.20971389999998,-98.2096209],[-98.2096209,-98.2095469],[-98.2095469,-98.2093929],[-98.2093929,-98.2093189],[-98.2093189,-98.2092399],[-98.2092399,-98.2088569],[-98.2088569,-98.2086379],[-98.2086379,-98.2085129],[-98.2085129,-98.2083179],[-98.2083179,-98.2082279],[-98.2082279,-98.2080929],[-98.2080929,-98.2078949],[-98.2073199,-98.2073049],[-98.2073049,-98.2073069],[-98.2073069,-98.2073029],[-98.2073029,-98.2072869],[-98.2072869,-98.2072569],[-98.2072569,-98.2071539],[-98.2071539,-98.20707289999999],[-98.20707289999999,-98.2070249],[-98.2070249,-98.2070019],[-98.2070019,-98.20699289999999],[-98.20699289999999,-98.2069939],[-98.2069939,-98.20699289999999],[-98.20699289999999,-98.20699689999998],[-98.20699689999998,-98.2069999],[-98.2069999,-98.20699289999999],[-98.20699289999999,-98.2070069],[-98.2070069,-98.2070239],[-98.2070239,-98.2070829],[-98.2070829,-98.2071269],[-98.2071269,-98.2071709],[-98.2071709,-98.2072179],[-98.2072179,-98.20728789999998],[-98.20728789999998,-98.2073639],[-98.2073639,-98.2075389],[-98.2075389,-98.2076489],[-98.2076489,-98.2078949],[-98.2078949,-98.2091429],[-98.2091429,-98.2094399],[-98.2094399,-98.2094859],[-98.2094859,-98.2096319],[-98.2085169,-98.2076879],[-98.2076879,-98.20699289999999],[-98.2076879,-98.2082719],[-98.2089759,-98.2093419],[-98.2093419,-98.2095449],[-98.2095449,-98.2097389],[-98.2097389,-98.2098359],[-98.2098359,-98.2100009],[-98.2060143,-98.2059801],[-98.2059801,-98.2059623],[-98.2058209,-98.2060134],[-98.2060134,-98.2060143],[-98.205848,-98.2057321],[-98.2057321,-98.2055549],[-98.2058209,-98.2057764],[-98.2057764,-98.2057321],[-98.2057321,-98.2056822]],\"ys\":[[29.931372,29.931369],[29.931369,29.93138],[29.93138,29.931381],[29.931381,29.931381],[29.931381,29.931389],[29.931389,29.931391],[29.931381,29.932068],[29.933104,29.933062],[29.933062,29.933056],[29.933056,29.933064],[29.933064,29.933083],[29.934565,29.93454],[29.93454,29.934526],[29.934526,29.934532],[29.934532,29.934549],[29.934549,29.934588],[29.934588,29.934641],[29.934641,29.934726],[29.934726,29.934821],[29.933061,29.933058],[29.934547,29.934537],[29.935903,29.935928],[29.935928,29.935945],[29.935945,29.935987],[29.935987,29.936115],[29.934821,29.935656],[29.935656,29.936115],[29.936115,29.937067],[29.937067,29.93754],[29.93754,29.937909],[29.937909,29.937989],[29.937989,29.938103],[29.938103,29.938183],[29.938183,29.938308],[29.938308,29.938358],[29.938358,29.938397],[29.938397,29.938558],[29.938558,29.938632],[29.938632,29.938682],[29.938682,29.938752],[29.938752,29.938788],[29.938788,29.938861],[29.938861,29.93904],[29.931372,29.932083],[29.932083,29.932582],[29.932582,29.932748],[29.932748,29.932842],[29.932842,29.932915],[29.932915,29.933061],[29.933061,29.933185],[29.933185,29.933296],[29.933296,29.933383],[29.933383,29.933691],[29.933691,29.934547],[29.934547,29.93594],[29.93594,29.937344],[29.937344,29.937362],[29.937362,29.937588],[29.937588,29.937818],[29.937818,29.937979],[29.937979,29.938193],[29.938193,29.938312],[29.938312,29.938391],[29.938391,29.938458],[29.938458,29.938541],[29.938541,29.938621],[29.938621,29.938781],[29.938781,29.938864],[29.938864,29.93904],[29.93904,29.939995],[29.939995,29.940329],[29.940329,29.940381],[29.940381,29.940624],[29.935931,29.935936],[29.935936,29.93594],[29.935936,29.936515],[29.937339,29.937328],[29.937328,29.937345],[29.937345,29.937408],[29.937408,29.937445],[29.937445,29.93754],[29.9331071,29.9320349],[29.9320349,29.9310362],[29.933017,29.9330155],[29.9330155,29.9331071],[29.9332163,29.9331957],[29.9331957,29.9331641],[29.933017,29.9330091],[29.9330091,29.9331957],[29.9331957,29.9334055]]}},\"id\":\"b60231a3-5079-48b2-a09a-ca3256d807e7\",\"type\":\"ColumnDataSource\"},{\"attributes\":{},\"id\":\"7c09bd8e-f90d-4368-a16f-faf465c02c54\",\"type\":\"BasicTicker\"},{\"attributes\":{\"line_alpha\":{\"value\":0.1},\"line_color\":{\"value\":\"#1f77b4\"},\"xs\":{\"field\":\"xs\"},\"ys\":{\"field\":\"ys\"}},\"id\":\"feb2af80-3d77-4d7f-bd8c-dc17190d9571\",\"type\":\"MultiLine\"},{\"attributes\":{\"plot\":{\"id\":\"662dd695-215b-42a0-b347-4e864cae3e87\",\"subtype\":\"Figure\",\"type\":\"Plot\"}},\"id\":\"f5593f8c-d277-4d73-9c58-cc3cfab46b8c\",\"type\":\"HelpTool\"},{\"attributes\":{\"overlay\":{\"id\":\"6c59ebfe-40a0-4ef2-b384-38d0df20f2c4\",\"type\":\"BoxAnnotation\"},\"plot\":{\"id\":\"662dd695-215b-42a0-b347-4e864cae3e87\",\"subtype\":\"Figure\",\"type\":\"Plot\"}},\"id\":\"eb46cc9c-b19c-4974-9311-cbb66c9d610b\",\"type\":\"BoxZoomTool\"},{\"attributes\":{\"plot\":{\"id\":\"662dd695-215b-42a0-b347-4e864cae3e87\",\"subtype\":\"Figure\",\"type\":\"Plot\"}},\"id\":\"992d835f-8cc3-4e55-8103-8f1bf9c84dea\",\"type\":\"ResetTool\"},{\"attributes\":{},\"id\":\"219c6883-af2d-4dd0-9523-074082ddd1b1\",\"type\":\"BasicTickFormatter\"},{\"attributes\":{\"formatter\":{\"id\":\"99e3b3be-cdef-4c45-904b-90f5b0ee2fac\",\"type\":\"BasicTickFormatter\"},\"plot\":{\"id\":\"662dd695-215b-42a0-b347-4e864cae3e87\",\"subtype\":\"Figure\",\"type\":\"Plot\"},\"ticker\":{\"id\":\"f9180908-6c19-46b5-8807-c8841e5111c9\",\"type\":\"BasicTicker\"}},\"id\":\"8740d375-6a6d-47b7-b229-4a0c0f3df0c8\",\"type\":\"LinearAxis\"},{\"attributes\":{},\"id\":\"7b79d476-dd33-499d-a37c-0e7fc18916d3\",\"type\":\"ToolEvents\"},{\"attributes\":{},\"id\":\"f9180908-6c19-46b5-8807-c8841e5111c9\",\"type\":\"BasicTicker\"},{\"attributes\":{\"plot\":{\"id\":\"662dd695-215b-42a0-b347-4e864cae3e87\",\"subtype\":\"Figure\",\"type\":\"Plot\"},\"ticker\":{\"id\":\"7c09bd8e-f90d-4368-a16f-faf465c02c54\",\"type\":\"BasicTicker\"}},\"id\":\"8919eb3f-0204-459d-b62d-ebb1e912c7fa\",\"type\":\"Grid\"},{\"attributes\":{\"callback\":null},\"id\":\"769b3839-a6d9-41a6-9337-dc3339eea955\",\"type\":\"DataRange1d\"},{\"attributes\":{\"active_drag\":\"auto\",\"active_scroll\":\"auto\",\"active_tap\":\"auto\",\"tools\":[{\"id\":\"4a5c889a-4de5-4349-a95e-6535e83e0341\",\"type\":\"PanTool\"},{\"id\":\"865f0970-39d8-47ca-9d66-0edfa1119f24\",\"type\":\"WheelZoomTool\"},{\"id\":\"eb46cc9c-b19c-4974-9311-cbb66c9d610b\",\"type\":\"BoxZoomTool\"},{\"id\":\"d89bfd09-2198-462c-855e-09c892af03b7\",\"type\":\"SaveTool\"},{\"id\":\"992d835f-8cc3-4e55-8103-8f1bf9c84dea\",\"type\":\"ResetTool\"},{\"id\":\"f5593f8c-d277-4d73-9c58-cc3cfab46b8c\",\"type\":\"HelpTool\"}]},\"id\":\"dd0dfc2b-4722-4120-b52c-7cf5aadb04de\",\"type\":\"Toolbar\"},{\"attributes\":{\"plot\":{\"id\":\"662dd695-215b-42a0-b347-4e864cae3e87\",\"subtype\":\"Figure\",\"type\":\"Plot\"}},\"id\":\"865f0970-39d8-47ca-9d66-0edfa1119f24\",\"type\":\"WheelZoomTool\"},{\"attributes\":{\"plot\":{\"id\":\"662dd695-215b-42a0-b347-4e864cae3e87\",\"subtype\":\"Figure\",\"type\":\"Plot\"}},\"id\":\"4a5c889a-4de5-4349-a95e-6535e83e0341\",\"type\":\"PanTool\"},{\"attributes\":{\"callback\":null},\"id\":\"e7ec6f75-73dc-437b-a809-24d587d57e71\",\"type\":\"DataRange1d\"}],\"root_ids\":[\"662dd695-215b-42a0-b347-4e864cae3e87\"]},\"title\":\"Bokeh Application\",\"version\":\"0.12.2\"}};\n",
       "            var render_items = [{\"docid\":\"83f5161b-1687-4422-b6cd-a0a5135e5637\",\"elementid\":\"ec244de2-7a86-439d-a0f2-a98a12549ac2\",\"modelid\":\"662dd695-215b-42a0-b347-4e864cae3e87\"}];\n",
       "            \n",
       "            Bokeh.embed.embed_items(docs_json, render_items);\n",
       "        });\n",
       "      },\n",
       "      function(Bokeh) {\n",
       "      }\n",
       "    ];\n",
       "  \n",
       "    function run_inline_js() {\n",
       "      \n",
       "      if ((window.Bokeh !== undefined) || (force === \"1\")) {\n",
       "        for (var i = 0; i < inline_js.length; i++) {\n",
       "          inline_js[i](window.Bokeh);\n",
       "        }if (force === \"1\") {\n",
       "          display_loaded();\n",
       "        }} else if (Date.now() < window._bokeh_timeout) {\n",
       "        setTimeout(run_inline_js, 100);\n",
       "      } else if (!window._bokeh_failed_load) {\n",
       "        console.log(\"Bokeh: BokehJS failed to load within specified timeout.\");\n",
       "        window._bokeh_failed_load = true;\n",
       "      } else if (!force) {\n",
       "        var cell = $(\"#ec244de2-7a86-439d-a0f2-a98a12549ac2\").parents('.cell').data().cell;\n",
       "        cell.output_area.append_execute_result(NB_LOAD_WARNING)\n",
       "      }\n",
       "  \n",
       "    }\n",
       "  \n",
       "    if (window._bokeh_is_loading === 0) {\n",
       "      console.log(\"Bokeh: BokehJS loaded, going straight to plotting\");\n",
       "      run_inline_js();\n",
       "    } else {\n",
       "      load_libs(js_urls, function() {\n",
       "        console.log(\"Bokeh: BokehJS plotting callback run at\", now());\n",
       "        run_inline_js();\n",
       "      });\n",
       "    }\n",
       "  }(this));\n",
       "</script>"
      ]
     },
     "metadata": {},
     "output_type": "display_data"
    },
    {
     "name": "stderr",
     "output_type": "stream",
     "text": [
      "ERROR:C:\\Users\\Kyle's Laptop\\Anaconda3\\lib\\site-packages\\bokeh\\core\\validation\\check.py:E-1000 (COLUMN_LENGTHS): ColumnDataSource column lengths are not all the same: ColumnDataSource, ViewModel:ColumnDataSource, ref _id: 37b85a04-eb30-48e3-ab7a-9090c6a887c2\n",
      "ERROR:C:\\Users\\Kyle's Laptop\\Anaconda3\\lib\\site-packages\\bokeh\\core\\validation\\check.py:E-1000 (COLUMN_LENGTHS): ColumnDataSource column lengths are not all the same: ColumnDataSource, ViewModel:ColumnDataSource, ref _id: 204ef8f5-f61f-4a07-98cf-012808165709\n",
      "WARNING:C:\\Users\\Kyle's Laptop\\Anaconda3\\lib\\site-packages\\bokeh\\core\\validation\\check.py:W-1005 (SNAPPED_TOOLBAR_ANNOTATIONS): Snapped toolbars and annotations on the same side MAY overlap visually: Figure, ViewModel:Plot, ref _id: 7d6ab87d-fcc1-4c25-b16a-88ad20fdc6ba\n",
      "WARNING:C:\\Users\\Kyle's Laptop\\Anaconda3\\lib\\site-packages\\bokeh\\core\\validation\\check.py:W-1005 (SNAPPED_TOOLBAR_ANNOTATIONS): Snapped toolbars and annotations on the same side MAY overlap visually: GMapPlot, ViewModel:GMapPlot, ref _id: e6779776-8203-4d62-b77e-531ea49072cf\n"
     ]
    }
   ],
   "source": [
    "from bokeh.io import show, output_file, output_notebook\n",
    "from bokeh.plotting import figure\n",
    "\n",
    "x=figure()\n",
    "x.multi_line(lonlines, latlines)\n",
    "\n",
    "output_file('test.html')\n",
    "output_notebook()\n",
    "show(x)"
   ]
  },
  {
   "cell_type": "code",
   "execution_count": 254,
   "metadata": {
    "collapsed": false
   },
   "outputs": [],
   "source": [
    "import pandas as pd\n",
    "\n",
    "df = pd.MultiIndex(latlines, lonlines, columns = ['lat','lon'])"
   ]
  },
  {
   "cell_type": "code",
   "execution_count": 255,
   "metadata": {
    "collapsed": true
   },
   "outputs": [],
   "source": [
    "from bokeh.io import show, output_file, output_notebook\n",
    "from bokeh.models import(GMapPlot, GMapOptions, ColumnDataSource,\n",
    "                        Circle, Line, DataRange1d, PanTool, WheelZoomTool, BoxSelectTool, )"
   ]
  },
  {
   "cell_type": "code",
   "execution_count": 256,
   "metadata": {
    "collapsed": true
   },
   "outputs": [],
   "source": [
    "map_options = GMapOptions(lat=29.936, lng=-98.208,\n",
    "                         map_type='roadmap', zoom=14)"
   ]
  },
  {
   "cell_type": "code",
   "execution_count": 257,
   "metadata": {
    "collapsed": true
   },
   "outputs": [],
   "source": [
    "plot = GMapPlot(x_range=DataRange1d(),\n",
    "                y_range=DataRange1d(),\n",
    "                map_options=map_options)\n",
    "plot.title.text = \"Austin\"\n",
    "plot.api_key=key\n",
    "plot.add_tools(PanTool(), WheelZoomTool(), BoxSelectTool())"
   ]
  },
  {
   "cell_type": "code",
   "execution_count": 258,
   "metadata": {
    "collapsed": false
   },
   "outputs": [
    {
     "data": {
      "text/plain": [
       "[-98.2075124,\n",
       " -98.2082114,\n",
       " -98.20906790000001,\n",
       " -98.2094989,\n",
       " -98.20990889999999,\n",
       " -98.2102979,\n",
       " -98.2094009,\n",
       " -98.2113244,\n",
       " -98.2115084,\n",
       " -98.2116134]"
      ]
     },
     "execution_count": 258,
     "metadata": {},
     "output_type": "execute_result"
    }
   ],
   "source": [
    "avglon[:10]"
   ]
  },
  {
   "cell_type": "markdown",
   "metadata": {},
   "source": [
    "### Import Linear Color Mapper\n",
    "From the Bokeh GitHub <a href='https://github.com/bokeh/bokeh/blob/master/examples/plotting/file/color_data_map.py'>example</a> we get the format for creating a color gradient to map to the elevations."
   ]
  },
  {
   "cell_type": "code",
   "execution_count": 284,
   "metadata": {
    "collapsed": true
   },
   "outputs": [],
   "source": [
    "from bokeh.models import ColorBar, LinearColorMapper\n",
    "from bokeh.palettes import Viridis3, Viridis256\n",
    "\n",
    "\n",
    "mapper = LinearColorMapper(palette=Viridis256, low=330, high=360)\n",
    "color_bar = ColorBar(color_mapper=mapper, location=(0, 0))\n",
    "plot.add_layout(color_bar, 'left')"
   ]
  },
  {
   "cell_type": "code",
   "execution_count": 285,
   "metadata": {
    "collapsed": false
   },
   "outputs": [
    {
     "data": {
      "text/plain": [
       "<bokeh.models.renderers.GlyphRenderer at 0x56698d0>"
      ]
     },
     "execution_count": 285,
     "metadata": {},
     "output_type": "execute_result"
    }
   ],
   "source": [
    "from bokeh.models.glyphs import MultiLine\n",
    "\n",
    "baseline = 0\n",
    "scale = 5\n",
    "\n",
    "source = ColumnDataSource(\n",
    "    data=dict(\n",
    "        x=lonlines,\n",
    "        y=latlines,\n",
    "        elev=elevations,\n",
    "        #rad = [(i-baseline) / scale for i in df.index.tolist()]\n",
    "    )\n",
    ")\n",
    "\n",
    "line = MultiLine(xs=\"x\",ys=\"y\", line_color = {'field': 'elev', 'transform': mapper}, line_width=2.5)\n",
    "plot.add_glyph(source, line)"
   ]
  },
  {
   "cell_type": "code",
   "execution_count": 287,
   "metadata": {
    "collapsed": false
   },
   "outputs": [
    {
     "name": "stderr",
     "output_type": "stream",
     "text": [
      "INFO:bokeh.core.state:Session output file 'avg.html' already exists, will be overwritten.\n"
     ]
    }
   ],
   "source": [
    "output_file('avg.html')\n",
    "# output_notebook()\n",
    "# show(plot)\n",
    "# show(p)"
   ]
  },
  {
   "cell_type": "markdown",
   "metadata": {
    "collapsed": true
   },
   "source": []
  }
 ],
 "metadata": {
  "kernelspec": {
   "display_name": "Python [default]",
   "language": "python",
   "name": "python3"
  },
  "language_info": {
   "codemirror_mode": {
    "name": "ipython",
    "version": 3
   },
   "file_extension": ".py",
   "mimetype": "text/x-python",
   "name": "python",
   "nbconvert_exporter": "python",
   "pygments_lexer": "ipython3",
   "version": "3.5.2"
  }
 },
 "nbformat": 4,
 "nbformat_minor": 1
}
